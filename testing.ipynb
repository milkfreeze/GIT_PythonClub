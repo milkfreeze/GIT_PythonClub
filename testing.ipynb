import requests
from bs4 import BeautifulSoup as bs4

# 上次查詢的最新公告:
# 2023-12-05   112學年度《緯創資通AI跨域應用產業碩士專班(春季班)》招生考試錄取名單

url = "https://www.nsysu.edu.tw/p/422-1000-1314.php?Lang=zh-tw"
response = requests.get(url)
key = "國科院"
soup = bs4(response.text, "html.parser")
data = soup.select('div.minner section div table tbody tr div.d-txt')


print("\n以下是所有公告的第一頁:\n")
count = 0
for i in range(1, len(data), 3):
    print(f"{data[i - 1].text.replace("\n", "").replace("\t", "")}  {data[i].text.replace("\n", "").replace("\t", "")}")
    count += 1
if count != 0:
    print("\n")
print(f"共 {count} 筆資料\n")


print(f"\n以下是包含關鍵字 {key} 的資料:\n")
count = 0
for i in range(1, len(data), 3):
    if key in data[i].text:
        print(f"{data[i - 1].text.replace("\n", "").replace("\t", "")}  {data[i].text.replace("\n", "").replace("\t", "")}")
        count += 1
if count != 0:
    print("\n")
print(f"共 {count} 筆資料\n")