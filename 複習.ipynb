{
 "cells": [
  {
   "cell_type": "code",
   "execution_count": 2,
   "id": "cb42bc81",
   "metadata": {},
   "outputs": [
    {
     "name": "stdout",
     "output_type": "stream",
     "text": [
      "6\n"
     ]
    }
   ],
   "source": [
    "apple=6\n",
    "print(apple)"
   ]
  },
  {
   "cell_type": "code",
   "execution_count": 2,
   "id": "263b7da1",
   "metadata": {},
   "outputs": [],
   "source": [
    "if apple>7:\n",
    "    print(\"aaa\")"
   ]
  },
  {
   "cell_type": "code",
   "execution_count": 3,
   "id": "1a28bb1b",
   "metadata": {},
   "outputs": [
    {
     "name": "stdout",
     "output_type": "stream",
     "text": [
      "aaa\n"
     ]
    }
   ],
   "source": [
    "if apple>5:\n",
    "    print(\"aaa\")"
   ]
  },
  {
   "cell_type": "code",
   "execution_count": 4,
   "id": "bce70bdd",
   "metadata": {},
   "outputs": [
    {
     "name": "stdout",
     "output_type": "stream",
     "text": [
      "cat\n"
     ]
    }
   ],
   "source": [
    "cat=20\n",
    "if apple>7:\n",
    "    print(\"apple\")\n",
    "elif cat==20:\n",
    "     print(\"cat\") \n",
    "else:\n",
    "    print(\"其他\")"
   ]
  },
  {
   "cell_type": "code",
   "execution_count": 5,
   "id": "5600a14c",
   "metadata": {},
   "outputs": [
    {
     "name": "stdout",
     "output_type": "stream",
     "text": [
      "其他\n"
     ]
    }
   ],
   "source": [
    "cat=20\n",
    "if apple>7:\n",
    "    print(\"apple\")\n",
    "elif cat==4:\n",
    "     print(\"cat\") \n",
    "else:\n",
    "    print(\"其他\")"
   ]
  },
  {
   "cell_type": "code",
   "execution_count": 6,
   "id": "07b7a326",
   "metadata": {},
   "outputs": [
    {
     "name": "stdout",
     "output_type": "stream",
     "text": [
      "0\n",
      "1\n",
      "2\n",
      "3\n",
      "4\n",
      "5\n",
      "6\n",
      "7\n",
      "8\n",
      "9\n",
      "10\n",
      "11\n",
      "12\n",
      "13\n",
      "14\n",
      "15\n",
      "16\n",
      "17\n",
      "18\n",
      "19\n"
     ]
    }
   ],
   "source": [
    "for i in range(20):\n",
    "    print(i)"
   ]
  },
  {
   "cell_type": "code",
   "execution_count": 5,
   "id": "ef77341d",
   "metadata": {},
   "outputs": [
    {
     "name": "stdout",
     "output_type": "stream",
     "text": [
      "ss\n",
      "ss\n",
      "ss\n",
      "ss\n",
      "ss\n"
     ]
    }
   ],
   "source": [
    "apple=1\n",
    "while apple<10:\n",
    "    print(\"ss\")\n",
    "    apple+=2"
   ]
  },
  {
   "cell_type": "code",
   "execution_count": null,
   "id": "c5933885",
   "metadata": {},
   "outputs": [],
   "source": []
  }
 ],
 "metadata": {
  "kernelspec": {
   "display_name": "Python 3 (ipykernel)",
   "language": "python",
   "name": "python3"
  },
  "language_info": {
   "codemirror_mode": {
    "name": "ipython",
    "version": 3
   },
   "file_extension": ".py",
   "mimetype": "text/x-python",
   "name": "python",
   "nbconvert_exporter": "python",
   "pygments_lexer": "ipython3",
   "version": "3.9.13"
  }
 },
 "nbformat": 4,
 "nbformat_minor": 5
}
