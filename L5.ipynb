{
 "cells": [
  {
   "cell_type": "markdown",
   "id": "53636ae3",
   "metadata": {},
   "source": [
    "# L5進階程式練習"
   ]
  },
  {
   "cell_type": "markdown",
   "id": "a91231b2",
   "metadata": {},
   "source": [
    "# 一、複習L2"
   ]
  },
  {
   "cell_type": "markdown",
   "id": "f0553559",
   "metadata": {},
   "source": [
    "### ★ if-else"
   ]
  },
  {
   "cell_type": "code",
   "execution_count": 1,
   "id": "a611fa7c",
   "metadata": {},
   "outputs": [
    {
     "name": "stdout",
     "output_type": "stream",
     "text": [
      "a<b\n",
      "a=2\n",
      "ok\n"
     ]
    }
   ],
   "source": [
    "a = 2\n",
    "b = 3\n",
    "if a<b:\n",
    "    print('a<b')      # a<b\n",
    "    if a==1:\n",
    "        print('a=1')  # 不會印出\n",
    "    elif a==2:\n",
    "        print('a=2')  # a=2\n",
    "    elif a==3:\n",
    "        print('a=3')  # 不會印出\n",
    "elif a>b:\n",
    "    print('a>b')      # 不會印出\n",
    "else:\n",
    "    print('a=b')      # 不會印出\n",
    "print('ok')           # ok"
   ]
  },
  {
   "cell_type": "markdown",
   "id": "c3029fd4",
   "metadata": {},
   "source": [
    "### ★ while"
   ]
  },
  {
   "cell_type": "code",
   "execution_count": 3,
   "id": "1e5b1121",
   "metadata": {},
   "outputs": [
    {
     "name": "stdout",
     "output_type": "stream",
     "text": [
      "0\n",
      "1\n",
      "2\n",
      "3\n",
      "4\n"
     ]
    }
   ],
   "source": [
    "hi=0\n",
    "while hi<5:\n",
    "    print(hi)\n",
    "    hi+=1"
   ]
  },
  {
   "cell_type": "markdown",
   "id": "ebdab631",
   "metadata": {},
   "source": [
    "### ★ for"
   ]
  },
  {
   "cell_type": "code",
   "execution_count": 4,
   "id": "d1cf111b",
   "metadata": {},
   "outputs": [
    {
     "name": "stdout",
     "output_type": "stream",
     "text": [
      "x1\n",
      "x2\n",
      "x3\n",
      "y1\n",
      "y2\n",
      "y3\n",
      "z1\n",
      "z2\n",
      "z3\n"
     ]
    }
   ],
   "source": [
    "for a in ['x','y','z']:\n",
    "    for b in [1,2,3]:\n",
    "        print(f'{a}{b}')"
   ]
  },
  {
   "cell_type": "markdown",
   "id": "5b80752d",
   "metadata": {},
   "source": [
    "### ★ continue, break - 節省執行次數"
   ]
  },
  {
   "cell_type": "code",
   "execution_count": 2,
   "id": "d5b19800",
   "metadata": {},
   "outputs": [
    {
     "name": "stdout",
     "output_type": "stream",
     "text": [
      "第幾次: 1\n",
      "第幾次: 2\n",
      "第幾次: 4\n",
      "第幾次: 5\n"
     ]
    }
   ],
   "source": [
    "#假設你不需要執行i=3的情況\n",
    "for i in range(1, 6):\n",
    "    if i == 3:\n",
    "        continue  \n",
    "    print(\"第幾次:\", i)   "
   ]
  },
  {
   "cell_type": "code",
   "execution_count": 4,
   "id": "7ec00397",
   "metadata": {},
   "outputs": [
    {
     "name": "stdout",
     "output_type": "stream",
     "text": [
      "3\n",
      "第幾次: 1\n",
      "第幾次: 2\n"
     ]
    }
   ],
   "source": [
    "in_num=int(input())\n",
    "#假設你i=你輸入的後就不需要再執行了\n",
    "for i in range(1, 6):\n",
    "    if i == in_num:\n",
    "        break \n",
    "    print(\"第幾次:\", i)"
   ]
  },
  {
   "cell_type": "markdown",
   "id": "844cc9ee",
   "metadata": {},
   "source": [
    "# 二、串列、數組、字典"
   ]
  },
  {
   "cell_type": "markdown",
   "id": "5e7d74c0",
   "metadata": {},
   "source": [
    "## 串列"
   ]
  },
  {
   "cell_type": "markdown",
   "id": "b47c8303",
   "metadata": {},
   "source": [
    "串列是將一連串的元素放在一個序列中，使其都有各自的編號，放入的元素可以是字串、數字、布林、串列、字典...等基本元素，在 Python 裡，有三種方法可以建立串列：「中括號 ( 方括號 )」、「list()」和「split() + 字串」。"
   ]
  },
  {
   "cell_type": "code",
   "execution_count": 26,
   "id": "20a279e7",
   "metadata": {},
   "outputs": [
    {
     "name": "stdout",
     "output_type": "stream",
     "text": [
      "['apple', 'banana', 'orange']\n",
      "<class 'list'>\n",
      "\n",
      "-------------------------------------------\n",
      "['apple', 'banana', 'orange']\n",
      "[]\n",
      "['a', 'p', 'p', 'l', 'e']\n",
      "\n",
      "-------------------------------------------\n",
      "['apple', 'banana', 'orange', 'zoo', 'hi']\n",
      "\n",
      "-------------------------------------------\n",
      "['dog', 'cat']\n",
      "dog\n",
      "cat\n"
     ]
    }
   ],
   "source": [
    "#----------------------------------------[]中括號------------------------#\n",
    "a = ['apple','banana','orange']\n",
    "b = [1,2,3,4,5]\n",
    "c = ['apple',1,2,3,['dog','cat']]\n",
    "print(a)  \n",
    "print(type(c))  \n",
    "#----------------------------------------list()------------------------#\n",
    "print(\"\\n-------------------------------------------\")\n",
    "a = ('apple','banana','orange')\n",
    "b = list(a)\n",
    "c = list()\n",
    "d = list('apple')\n",
    "print(b)   \n",
    "print(c)   \n",
    "print(d)   \n",
    "#----------------------------------------split()------------------------#\n",
    "print(\"\\n-------------------------------------------\")\n",
    "a = 'apple,banana,orange,zoo,hi'\n",
    "b = a.split(',')\n",
    "print(b)  \n",
    "#----------------------------------------二維------------------------#\n",
    "print(\"\\n-------------------------------------------\")\n",
    "a = ['apple','banana','orange',['dog','cat']]\n",
    "print(a[3])   \n",
    "print(a[3][0])   \n",
    "print(a[3][1])  "
   ]
  },
  {
   "cell_type": "markdown",
   "id": "ec448936",
   "metadata": {},
   "source": [
    "### ★slice()"
   ]
  },
  {
   "cell_type": "markdown",
   "id": "27bffafd",
   "metadata": {},
   "source": [
    "slice() 函式可以取出串列中「某個範圍」的元素，使用方式在中括號裡加上冒號「:」，在冒號的前後放入指定的 offset，就能取出指定範圍的資料 ( 第一個 offset : 第二個 offset - 1 )，如果不指定數值，冒號前方預設為 0，冒號後方預設為 -1。  "
   ]
  },
  {
   "cell_type": "code",
   "execution_count": 29,
   "id": "ec59ffd7",
   "metadata": {},
   "outputs": [
    {
     "name": "stdout",
     "output_type": "stream",
     "text": [
      "[0, 1, 2]\n",
      "[3, 4, 5, 6, 7, 8, 9]\n",
      "[1, 2]\n",
      "[5, 6, 7]\n"
     ]
    }
   ],
   "source": [
    "a = [0,1,2,3,4,5,6,7,8,9]\n",
    "b = a[:3]\n",
    "c = a[3:]\n",
    "d = a[1:3]\n",
    "e = a[-5:-2]\n",
    "print(b)   # [0, 1, 2]  取得 0～(3-1) 項\n",
    "print(c)   # [3, 4, 5, 6, 7, 8, 9]  取得 3～最後一項\n",
    "print(d)   # [1, 2]  取得 1～(3-1) 項\n",
    "print(e)   # [5, 6, 7]  取得倒數第 5 項～(倒數第二項-1)"
   ]
  },
  {
   "cell_type": "markdown",
   "id": "8ded9499",
   "metadata": {},
   "source": [
    "如果使用兩個冒號「::」，表示要「間隔幾個項目」取值，例如「::2」就是間隔兩個項目，「::3」就是間隔三個項目，如果是負數，就是從右側取值，因此「::-1」就可以讓反轉整個串列。"
   ]
  },
  {
   "cell_type": "code",
   "execution_count": 30,
   "id": "42524283",
   "metadata": {},
   "outputs": [
    {
     "name": "stdout",
     "output_type": "stream",
     "text": [
      "[0, 3, 6, 9]\n",
      "[3, 5, 7, 9]\n",
      "[9, 8, 7, 6, 5, 4, 3, 2, 1, 0]\n",
      "[9, 7, 5, 3, 1]\n"
     ]
    }
   ],
   "source": [
    "a = [0,1,2,3,4,5,6,7,8,9]\n",
    "b = a[::3]\n",
    "c = a[3::2]\n",
    "d = a[::-1]\n",
    "e = a[::-2]\n",
    "print(b)   # [0, 3, 6, 9]  每隔三項目取值\n",
    "print(c)   # [3, 5, 7, 9]  從第三個項目開始，每隔兩項目取值\n",
    "print(d)   # [9, 8, 7, 6, 5, 4, 3, 2, 1, 0]  反轉串列\n",
    "print(e)   # [9, 7, 5, 3, 1]  反轉串列，每隔兩個項目取值"
   ]
  },
  {
   "cell_type": "markdown",
   "id": "c2e8be36",
   "metadata": {},
   "source": [
    "### 常用操作"
   ]
  },
  {
   "cell_type": "markdown",
   "id": "57e6319a",
   "metadata": {},
   "source": [
    "sort()、 sorted()\t排序 <br>\n",
    "slice()、reverse()\t反轉<br>\n",
    "slice、copy()、list()、deepcopy()\t複製<br>\n",
    "index()\t取得項目 offset<br>\n",
    "len()\t取得串列長度<br>\n",
    "count()\t計算內容出現次數<br>\n",
    "join()\t結合串列內容<br>\n",
    "in\t檢查內容是否存在<br>\n",
    "=、!=、>、<\t比較串列<br>\n",
    "＊\t重複項目<br>"
   ]
  },
  {
   "cell_type": "code",
   "execution_count": 33,
   "id": "0a5f5f79",
   "metadata": {},
   "outputs": [
    {
     "name": "stdout",
     "output_type": "stream",
     "text": [
      "[0, 1, 2, 3, 4, 5, 6, 7, 8, 9]\n",
      "[9, 8, 7, 6, 5, 4, 3, 2, 1, 0]\n",
      "\n",
      "-------------------------------------------\n",
      "1\n",
      "\n",
      "-------------------------------------------\n",
      "4\n",
      "\n",
      "-------------------------------------------\n",
      "2\n",
      "0\n",
      "\n",
      "-------------------------------------------\n",
      "True\n",
      "False\n"
     ]
    }
   ],
   "source": [
    "a = [0,3,2,1,4,9,6,8,7,5]\n",
    "a.sort()\n",
    "print(a)   # [0, 1, 2, 3, 4, 5, 6, 7, 8, 9]\n",
    "a.sort(reverse=True)\n",
    "print(a)   # [9, 8, 7, 6, 5, 4, 3, 2, 1, 0]\n",
    "#----------------------------------------------------------------#\n",
    "print(\"\\n-------------------------------------------\")\n",
    "a = ['apple','banana','banana','orange']\n",
    "print(a.index('banana'))   # 1\n",
    "#----------------------------------------------------------------#\n",
    "print(\"\\n-------------------------------------------\")\n",
    "a = ['apple','banana','banana','orange']\n",
    "print(len(a))   # 4\n",
    "#----------------------------------------------------------------#\n",
    "print(\"\\n-------------------------------------------\")\n",
    "a = ['apple','banana','banana','orange']\n",
    "print(a.count('banana'))   # 2\n",
    "print(a.count('grap'))     # 0\n",
    "#----------------------------------------------------------------#\n",
    "print(\"\\n-------------------------------------------\")\n",
    "a = ['apple','banana','banana','orange']\n",
    "print('orange' in a)    # True\n",
    "print('melon' in a)     # False"
   ]
  },
  {
   "cell_type": "markdown",
   "id": "f118608e",
   "metadata": {},
   "source": [
    "## 數組"
   ]
  },
  {
   "cell_type": "code",
   "execution_count": 34,
   "id": "18c38582",
   "metadata": {},
   "outputs": [
    {
     "name": "stdout",
     "output_type": "stream",
     "text": [
      "apple\n",
      "banana\n",
      "orange\n",
      "grap\n"
     ]
    }
   ],
   "source": [
    "t = ('apple','banana','orange','grap')\n",
    "print(t[0])   # apple\n",
    "print(t[1])   # banana\n",
    "print(t[2])   # orange\n",
    "print(t[3])   # grap"
   ]
  },
  {
   "cell_type": "markdown",
   "id": "05fd2052",
   "metadata": {},
   "source": [
    "## 字典"
   ]
  },
  {
   "cell_type": "code",
   "execution_count": 35,
   "id": "19b08a2a",
   "metadata": {},
   "outputs": [
    {
     "name": "stdout",
     "output_type": "stream",
     "text": [
      "{'name': 'oxxo', 'age': 18, 'eat': ['apple', 'banana']}\n"
     ]
    }
   ],
   "source": [
    "a = {'name':'oxxo','age':18,'eat':['apple','banana']}\n",
    "print(a)"
   ]
  },
  {
   "cell_type": "markdown",
   "id": "7cb0ed73",
   "metadata": {},
   "source": [
    "## 三、排序"
   ]
  },
  {
   "cell_type": "markdown",
   "id": "174996a2",
   "metadata": {},
   "source": [
    "### ★Bubble Sort"
   ]
  },
  {
   "cell_type": "markdown",
   "id": "0629e6b1",
   "metadata": {},
   "source": [
    "![SegmentLocal](https://ethan-tsai.github.io/py_materials/week5/bubble.gif \"segment\")"
   ]
  },
  {
   "cell_type": "code",
   "execution_count": 7,
   "id": "93d2f6df",
   "metadata": {},
   "outputs": [],
   "source": [
    "def bubble_sorted(iterable):\n",
    "    new_list = list(iterable)\n",
    "    list_len = len(new_list)\n",
    "    for i in range(list_len-1):\n",
    "        for j in range(list_len - i - 1):\n",
    "            if new_list[j] > new_list[j + 1]:\n",
    "                new_list[j], new_list[j + 1] = new_list[j + 1], new_list[j]  #swap\n",
    "    return new_list"
   ]
  },
  {
   "cell_type": "code",
   "execution_count": 8,
   "id": "b4cef11b",
   "metadata": {},
   "outputs": [
    {
     "name": "stdout",
     "output_type": "stream",
     "text": [
      "sorted: [2, 4, 8, 13, 14, 26, 27, 28, 33, 35]\n"
     ]
    }
   ],
   "source": [
    "testlist = [27, 33, 28, 4, 2, 26, 13, 35, 8, 14]\n",
    "print('sorted:', bubble_sorted(testlist))"
   ]
  },
  {
   "cell_type": "markdown",
   "id": "7873f171",
   "metadata": {},
   "source": [
    "### ★Selection Sort"
   ]
  },
  {
   "cell_type": "markdown",
   "id": "dc7a1cef",
   "metadata": {},
   "source": [
    "![SegmentLocal](https://ethan-tsai.github.io/py_materials/week5/select.gif \"segment\")"
   ]
  },
  {
   "cell_type": "code",
   "execution_count": 9,
   "id": "68ad0283",
   "metadata": {},
   "outputs": [
    {
     "name": "stdout",
     "output_type": "stream",
     "text": [
      "[5, 17, 33, 41, 55, 61, 80]\n"
     ]
    }
   ],
   "source": [
    "Numbers = [41,33,17,80,61,5,55]\n",
    "\n",
    "length = len(Numbers)\n",
    "for i in range(length-1):\n",
    "    min_index = i\n",
    "    for j in range(i+1, length):\n",
    "        if Numbers[min_index] > Numbers[j]:    #find min\n",
    "            min_index = j\n",
    "    Numbers[min_index], Numbers[i] = Numbers[i], Numbers[min_index]\n",
    "\n",
    "print(Numbers)"
   ]
  },
  {
   "cell_type": "markdown",
   "id": "38c2a497",
   "metadata": {},
   "source": [
    "### ★Insertion Sort"
   ]
  },
  {
   "cell_type": "markdown",
   "id": "24ca6675",
   "metadata": {},
   "source": [
    "![SegmentLocal](https://ethan-tsai.github.io/py_materials/week5/insert.gif \"segment\")"
   ]
  },
  {
   "cell_type": "code",
   "execution_count": 18,
   "id": "f6f2e9e7",
   "metadata": {},
   "outputs": [
    {
     "name": "stdout",
     "output_type": "stream",
     "text": [
      "[5, 17, 33, 41, 55, 61, 80]\n"
     ]
    }
   ],
   "source": [
    "Numbers = [41,33,17,80,61,5,55]\n",
    "\n",
    "length = len(Numbers)\n",
    "for i in range(1, length):\n",
    "    position = i\n",
    "    value = Numbers[i]\n",
    "    while position > 0 and Numbers[position-1] > Numbers[position]:\n",
    "        Numbers[position], Numbers[position-1] = Numbers[position-1], Numbers[position]\n",
    "        position -= 1\n",
    "\n",
    "print(Numbers)"
   ]
  },
  {
   "cell_type": "markdown",
   "id": "b57887d1",
   "metadata": {},
   "source": [
    "### ★Merge Sort"
   ]
  },
  {
   "cell_type": "markdown",
   "id": "b9693231",
   "metadata": {},
   "source": [
    "![SegmentLocal](https://ethan-tsai.github.io/py_materials/week5/merge.gif \"segment\")"
   ]
  },
  {
   "cell_type": "code",
   "execution_count": 19,
   "id": "57a25b3d",
   "metadata": {},
   "outputs": [
    {
     "name": "stdout",
     "output_type": "stream",
     "text": [
      "[5, 17, 33, 41, 55, 61, 80]\n"
     ]
    }
   ],
   "source": [
    "def Merge_Sort(array):\n",
    "    if len(array) > 1:\n",
    "        mid = len(array) // 2\n",
    "        left_array = array[:mid]\n",
    "        right_array = array[mid:]\n",
    "\n",
    "        Merge_Sort(left_array)\n",
    "        Merge_Sort(right_array)\n",
    "\n",
    "        right_index = 0;\n",
    "        left_index = 0;\n",
    "        merged_index = 0;\n",
    "        while right_index < len(right_array) and left_index < len(left_array):\n",
    "            if(right_array[right_index] < left_array[left_index]):\n",
    "                array[merged_index] = right_array[right_index]\n",
    "                right_index = right_index + 1\n",
    "            else:\n",
    "                array[merged_index] = left_array[left_index]\n",
    "                left_index = left_index + 1\n",
    "\n",
    "            merged_index = merged_index + 1\n",
    "\n",
    "        while right_index < len(right_array):\n",
    "            array[merged_index] = right_array[right_index]\n",
    "            right_index = right_index + 1\n",
    "            merged_index = merged_index + 1\n",
    "\n",
    "        while left_index < len(left_array):\n",
    "            array[merged_index] = left_array[left_index]\n",
    "            left_index = left_index + 1\n",
    "            merged_index = merged_index + 1\n",
    "\n",
    "Numbers = [41, 33, 17, 80, 61, 5, 55]\n",
    "Merge_Sort(Numbers)\n",
    "print(Numbers)"
   ]
  },
  {
   "cell_type": "markdown",
   "id": "f5494fbc",
   "metadata": {},
   "source": [
    "## 四、搜尋"
   ]
  },
  {
   "cell_type": "markdown",
   "id": "2900ec14",
   "metadata": {},
   "source": [
    "### ★Binary Search"
   ]
  },
  {
   "cell_type": "markdown",
   "id": "38dd5a43",
   "metadata": {},
   "source": [
    "![SegmentLocal](https://ethan-tsai.github.io/py_materials/week5/binary_search.gif \"segment\")"
   ]
  },
  {
   "cell_type": "markdown",
   "id": "96c93f8c",
   "metadata": {},
   "source": [
    "#### version1 Recursive"
   ]
  },
  {
   "cell_type": "code",
   "execution_count": 21,
   "id": "4ee45791",
   "metadata": {},
   "outputs": [
    {
     "name": "stdout",
     "output_type": "stream",
     "text": [
      "Element is present at index 3\n"
     ]
    }
   ],
   "source": [
    "def binary_search(arr, low, high, x):\n",
    " \n",
    "    if high >= low:\n",
    " \n",
    "        mid = (high + low) // 2\n",
    " \n",
    "        if arr[mid] == x:\n",
    "            return mid\n",
    "\n",
    "        elif arr[mid] > x:\n",
    "            return binary_search(arr, low, mid - 1, x)\n",
    " \n",
    "        else:\n",
    "            return binary_search(arr, mid + 1, high, x)\n",
    " \n",
    "    else:\n",
    "        return -1\n",
    " \n",
    "\n",
    "arr = [ 2, 3, 4, 10, 40 ]\n",
    "x = 10\n",
    " \n",
    "result = binary_search(arr, 0, len(arr)-1, x)\n",
    " \n",
    "if result != -1:\n",
    "    print(\"Element is present at index\", str(result))\n",
    "else:\n",
    "    print(\"Element is not present in array\")"
   ]
  },
  {
   "cell_type": "markdown",
   "id": "a17cc9af",
   "metadata": {},
   "source": [
    "#### version2 Iterative "
   ]
  },
  {
   "cell_type": "code",
   "execution_count": 23,
   "id": "fd88f15b",
   "metadata": {},
   "outputs": [
    {
     "name": "stdout",
     "output_type": "stream",
     "text": [
      "Element is present at index 1\n"
     ]
    }
   ],
   "source": [
    "def binary_search(arr, x):\n",
    "    low = 0\n",
    "    high = len(arr) - 1\n",
    "    mid = 0\n",
    " \n",
    "    while low <= high:\n",
    " \n",
    "        mid = (high + low) // 2\n",
    "\n",
    "        if arr[mid] < x:\n",
    "            low = mid + 1\n",
    " \n",
    "        elif arr[mid] > x:\n",
    "            high = mid - 1\n",
    " \n",
    "        else:\n",
    "            return mid\n",
    " \n",
    "    return -1\n",
    " \n",
    " \n",
    "arr = [ 2, 3, 4, 10, 40 ]\n",
    "x = 3\n",
    " \n",
    "result = binary_search(arr, x)\n",
    " \n",
    "if result != -1:\n",
    "    print(\"Element is present at index\", str(result))\n",
    "else:\n",
    "    print(\"Element is not present in array\")"
   ]
  },
  {
   "cell_type": "markdown",
   "id": "0c02d91a",
   "metadata": {},
   "source": [
    "### 練習CPE-2023/03/21-p1"
   ]
  },
  {
   "cell_type": "code",
   "execution_count": null,
   "id": "7a049169",
   "metadata": {},
   "outputs": [],
   "source": [
    "#完成code"
   ]
  },
  {
   "cell_type": "markdown",
   "id": "c1e07091",
   "metadata": {},
   "source": [
    "### 練習leetcode-35"
   ]
  },
  {
   "cell_type": "code",
   "execution_count": 1,
   "id": "e3f00b09",
   "metadata": {},
   "outputs": [],
   "source": [
    "#完成code"
   ]
  }
 ],
 "metadata": {
  "kernelspec": {
   "display_name": "Python 3 (ipykernel)",
   "language": "python",
   "name": "python3"
  },
  "language_info": {
   "codemirror_mode": {
    "name": "ipython",
    "version": 3
   },
   "file_extension": ".py",
   "mimetype": "text/x-python",
   "name": "python",
   "nbconvert_exporter": "python",
   "pygments_lexer": "ipython3",
   "version": "3.9.13"
  }
 },
 "nbformat": 4,
 "nbformat_minor": 5
}
